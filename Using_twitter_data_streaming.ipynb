{
 "cells": [
  {
   "cell_type": "code",
   "execution_count": 1,
   "metadata": {},
   "outputs": [],
   "source": [
    "import tweepy\n",
    "from tweepy import OAuthHandler\n",
    "from tweepy import Stream\n",
    "from tweepy.streaming import StreamListener\n",
    "import socket\n",
    "import json"
   ]
  },
  {
   "cell_type": "code",
   "execution_count": 2,
   "metadata": {},
   "outputs": [],
   "source": [
    "import numpy as np\n",
    "import pandas as pd"
   ]
  },
  {
   "cell_type": "code",
   "execution_count": 3,
   "metadata": {},
   "outputs": [],
   "source": [
    "access_token = \"1451764303-6YQ4d5NLqPXEJb8DPrZnKzm8vEfD9mZX2YGxuH9\"\n",
    "access_secret = \"vL87QAU0UOAAdK4okV4kpArQuRSXMYvybtZoUkzleaVJR\"\n",
    "consumer_key = \"CPelcT6ZGfO5Hpzv36HWHs3EY\"\n",
    "consumer_secret = \"M8n0HTrlSPmnRVkFg49YpPGJ2S4lIxDppT8l8QC2sLlIsL0qg0\""
   ]
  },
  {
   "cell_type": "code",
   "execution_count": 4,
   "metadata": {},
   "outputs": [],
   "source": [
    "auth = tweepy.OAuthHandler(consumer_key, consumer_secret)\n",
    "auth.set_access_token(access_token, access_secret)\n",
    "api = tweepy.API(auth)"
   ]
  },
  {
   "cell_type": "code",
   "execution_count": 11,
   "metadata": {},
   "outputs": [],
   "source": [
    "hastags = [\"bankofamerica\",\"usbank\",\"USTreasury\",\"federalreserve\",\"BankofAmerica\",\"usbank_news\"]"
   ]
  },
  {
   "cell_type": "code",
   "execution_count": 18,
   "metadata": {},
   "outputs": [
    {
     "name": "stdout",
     "output_type": "stream",
     "text": [
      "Can you recommend anyone for this job in Houston, TX? https://t.co/8vw1VS2B3o #USBank #QA\n",
      "@CuriosophyNow @usbank yes, what is going on?  Terrible...@usbank\n",
      "Want to work at U.S. Bank? We're hiring in Tempe, AZ! Click for details: https://t.co/WPDo6tsY5f #USBank #CustomerService\n",
      "Interested in a job in Minneapolis, MN? This could be a great fit: https://t.co/6zAXuIX71A #USBank #Banking\n",
      "Join the U.S. Bank team! See our latest job opening here: https://t.co/s8t54J7pEw #USBank #IT\n",
      "@JonMuel01944083 Hello Jon, I'm happy to offer you an explanation. During the timeframe you mentioned, bank process… https://t.co/0zeLZNJvV0\n",
      "Want to work at U.S. Bank? We're hiring in Remote, OR! Click for details: https://t.co/JH7D6NpBiZ #USBank #IT\n",
      "@marilyn73752232 @usbank Yea they are lying they are just not supposed to give non us bank  cards back to you just… https://t.co/HCnsWyICKn\n",
      "@usbank DO NOT make mistake of doing business with US BANK. I was using US Bank ATM to get cash on out of area bank… https://t.co/hR2sbCASrH\n",
      "@4evermorephotos Good morning, thank you for sharing your concerns. We hate to hear that you no longer plan to use… https://t.co/XCM5Fr1jdH\n",
      "@CuriosophyNow @usbank Still down\n",
      "Happy Veterans Day! Honoring those who have fought for us. https://t.co/hp25wvI7Oh https://t.co/maKWsAbLYi\n",
      "Shout-out to @usbank , the A.T.M is fixed, thank you, good thing it was  a temporary glitch\n",
      "@usbank in Raymore Mo has completely went to crap.  3rd time in a month they had computer problems and 2xs not enou… https://t.co/r6J0T11El7\n",
      "@usbank Is there an ETA for your current technical difficulties?\n"
     ]
    }
   ],
   "source": [
    "for tweet in api.search('usbank'):\n",
    "    print(tweet.text)"
   ]
  },
  {
   "cell_type": "code",
   "execution_count": 21,
   "metadata": {},
   "outputs": [],
   "source": [
    "df = pd.DataFrame(columns = ['User', 'User_statuses_count', \n",
    "                             'user_followers','fav_count','User_location','Tweets',])"
   ]
  },
  {
   "cell_type": "code",
   "execution_count": 24,
   "metadata": {},
   "outputs": [],
   "source": [
    "def stream(data, file_name):\n",
    "    i = 0\n",
    "    for tweet in tweepy.Cursor(api.search, q=data, count=100000, lang='en').items():\n",
    "        print(i, end='\\r')\n",
    "        df.loc[i, 'User'] = tweet.user.name\n",
    "        df.loc[i, 'User_statuses_count'] = tweet.user.statuses_count\n",
    "        df.loc[i, 'user_followers'] = tweet.user.followers_count\n",
    "        df.loc[i, 'fav_count'] = tweet.favorite_count\n",
    "        df.loc[i, 'User_location'] = tweet.user.location\n",
    "        df.loc[i, 'Tweets'] = tweet.text\n",
    "        \n",
    "        \n",
    "        df.to_csv('{}.csv'.format(file_name))\n",
    "        i+=1\n",
    "        if i == 5000:\n",
    "            break\n",
    "        else:\n",
    "            pass"
   ]
  },
  {
   "cell_type": "code",
   "execution_count": 27,
   "metadata": {},
   "outputs": [
    {
     "name": "stdout",
     "output_type": "stream",
     "text": [
      "4999\r"
     ]
    }
   ],
   "source": [
    "stream(data = ['Bank of America'], file_name = 'usbank')"
   ]
  },
  {
   "cell_type": "code",
   "execution_count": 28,
   "metadata": {
    "scrolled": true
   },
   "outputs": [
    {
     "data": {
      "text/html": [
       "<div>\n",
       "<style scoped>\n",
       "    .dataframe tbody tr th:only-of-type {\n",
       "        vertical-align: middle;\n",
       "    }\n",
       "\n",
       "    .dataframe tbody tr th {\n",
       "        vertical-align: top;\n",
       "    }\n",
       "\n",
       "    .dataframe thead th {\n",
       "        text-align: right;\n",
       "    }\n",
       "</style>\n",
       "<table border=\"1\" class=\"dataframe\">\n",
       "  <thead>\n",
       "    <tr style=\"text-align: right;\">\n",
       "      <th></th>\n",
       "      <th>User</th>\n",
       "      <th>User_statuses_count</th>\n",
       "      <th>user_followers</th>\n",
       "      <th>fav_count</th>\n",
       "      <th>User_location</th>\n",
       "      <th>Tweets</th>\n",
       "    </tr>\n",
       "  </thead>\n",
       "  <tbody>\n",
       "    <tr>\n",
       "      <th>0</th>\n",
       "      <td>Susan APRIL Steinkoenig</td>\n",
       "      <td>18402</td>\n",
       "      <td>672</td>\n",
       "      <td>0</td>\n",
       "      <td>San Francisco, CA</td>\n",
       "      <td>Parc 55 Hilton Hotel San Francisco 100 block M...</td>\n",
       "    </tr>\n",
       "    <tr>\n",
       "      <th>1</th>\n",
       "      <td>Shawnny</td>\n",
       "      <td>2464</td>\n",
       "      <td>116</td>\n",
       "      <td>0</td>\n",
       "      <td></td>\n",
       "      <td>I fucking hate Bank of America.</td>\n",
       "    </tr>\n",
       "    <tr>\n",
       "      <th>2</th>\n",
       "      <td>WBZ NewsRadio</td>\n",
       "      <td>177468</td>\n",
       "      <td>45630</td>\n",
       "      <td>0</td>\n",
       "      <td>Boston</td>\n",
       "      <td>One Of America's Most Wanted Bank Robbers Is I...</td>\n",
       "    </tr>\n",
       "    <tr>\n",
       "      <th>3</th>\n",
       "      <td>Marie Wilson</td>\n",
       "      <td>7258</td>\n",
       "      <td>117</td>\n",
       "      <td>0</td>\n",
       "      <td></td>\n",
       "      <td>The right wing in America wastes their lives b...</td>\n",
       "    </tr>\n",
       "    <tr>\n",
       "      <th>4</th>\n",
       "      <td>MIA: Decorative Arts, Textiles and Sculpture (...</td>\n",
       "      <td>8453</td>\n",
       "      <td>3532</td>\n",
       "      <td>0</td>\n",
       "      <td>Minneapolis, MN</td>\n",
       "      <td>Girard Model Works, Inc., \"Bank of America Cas...</td>\n",
       "    </tr>\n",
       "  </tbody>\n",
       "</table>\n",
       "</div>"
      ],
      "text/plain": [
       "                                                User User_statuses_count  \\\n",
       "0                            Susan APRIL Steinkoenig               18402   \n",
       "1                                            Shawnny                2464   \n",
       "2                                      WBZ NewsRadio              177468   \n",
       "3                                       Marie Wilson                7258   \n",
       "4  MIA: Decorative Arts, Textiles and Sculpture (...                8453   \n",
       "\n",
       "  user_followers fav_count      User_location  \\\n",
       "0            672         0  San Francisco, CA   \n",
       "1            116         0                      \n",
       "2          45630         0             Boston   \n",
       "3            117         0                      \n",
       "4           3532         0    Minneapolis, MN   \n",
       "\n",
       "                                              Tweets  \n",
       "0  Parc 55 Hilton Hotel San Francisco 100 block M...  \n",
       "1                    I fucking hate Bank of America.  \n",
       "2  One Of America's Most Wanted Bank Robbers Is I...  \n",
       "3  The right wing in America wastes their lives b...  \n",
       "4  Girard Model Works, Inc., \"Bank of America Cas...  "
      ]
     },
     "execution_count": 28,
     "metadata": {},
     "output_type": "execute_result"
    }
   ],
   "source": [
    "df.head()"
   ]
  },
  {
   "cell_type": "code",
   "execution_count": 29,
   "metadata": {},
   "outputs": [],
   "source": [
    "df.to_csv('bankofamerica.csv')"
   ]
  }
 ],
 "metadata": {
  "kernelspec": {
   "display_name": "Python 3",
   "language": "python",
   "name": "python3"
  },
  "language_info": {
   "codemirror_mode": {
    "name": "ipython",
    "version": 3
   },
   "file_extension": ".py",
   "mimetype": "text/x-python",
   "name": "python",
   "nbconvert_exporter": "python",
   "pygments_lexer": "ipython3",
   "version": "3.8.5"
  }
 },
 "nbformat": 4,
 "nbformat_minor": 4
}
